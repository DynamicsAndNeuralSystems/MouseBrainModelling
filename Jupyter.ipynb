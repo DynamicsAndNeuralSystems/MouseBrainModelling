{
 "nbformat": 4,
 "nbformat_minor": 2,
 "metadata": {
  "language_info": {
   "name": "python",
   "codemirror_mode": {
    "name": "ipython",
    "version": 3
   },
   "version": "3.7.4-final"
  },
  "orig_nbformat": 2,
  "file_extension": ".py",
  "mimetype": "text/x-python",
  "name": "python",
  "npconvert_exporter": "python",
  "pygments_lexer": "ipython3",
  "version": 3,
  "kernelspec": {
   "name": "python3",
   "display_name": "Python 3"
  }
 },
 "cells": [
  {
   "cell_type": "code",
   "execution_count": 11,
   "metadata": {},
   "outputs": [
    {
     "ename": "NameError",
     "evalue": "name 'unicode' is not defined",
     "output_type": "error",
     "traceback": [
      "\u001b[1;31m---------------------------------------------------------------------------\u001b[0m",
      "\u001b[1;31mNameError\u001b[0m                                 Traceback (most recent call last)",
      "\u001b[1;32m<ipython-input-11-b4b95a28c7fe>\u001b[0m in \u001b[0;36m<module>\u001b[1;34m\u001b[0m\n\u001b[0;32m     13\u001b[0m \u001b[1;31m# set PYTHONPATH=%cd%\\Lib;%cd%\\Lib\\site-packages\u001b[0m\u001b[1;33m\u001b[0m\u001b[1;33m\u001b[0m\u001b[1;33m\u001b[0m\u001b[0m\n\u001b[0;32m     14\u001b[0m \u001b[1;33m\u001b[0m\u001b[0m\n\u001b[1;32m---> 15\u001b[1;33m \u001b[1;32mfrom\u001b[0m \u001b[0mtvb\u001b[0m\u001b[1;33m.\u001b[0m\u001b[0msimulator\u001b[0m\u001b[1;33m.\u001b[0m\u001b[0mlab\u001b[0m \u001b[1;32mimport\u001b[0m \u001b[1;33m*\u001b[0m\u001b[1;33m\u001b[0m\u001b[1;33m\u001b[0m\u001b[0m\n\u001b[0m\u001b[0;32m     16\u001b[0m \u001b[0mLOG\u001b[0m \u001b[1;33m=\u001b[0m \u001b[0mget_logger\u001b[0m\u001b[1;33m(\u001b[0m\u001b[1;34m'demo'\u001b[0m\u001b[1;33m)\u001b[0m\u001b[1;33m\u001b[0m\u001b[1;33m\u001b[0m\u001b[0m\n\u001b[0;32m     17\u001b[0m \u001b[1;32mfrom\u001b[0m \u001b[0mtvb\u001b[0m\u001b[1;33m.\u001b[0m\u001b[0msimulator\u001b[0m\u001b[1;33m.\u001b[0m\u001b[0mplot\u001b[0m\u001b[1;33m.\u001b[0m\u001b[0mtools\u001b[0m \u001b[1;32mimport\u001b[0m \u001b[1;33m*\u001b[0m\u001b[1;33m\u001b[0m\u001b[1;33m\u001b[0m\u001b[0m\n",
      "\u001b[1;32mD:\\Program Files (x86)\\TVB_Windows_1.5.8\\TVB_Distribution\\tvb_data\\Lib\\site-packages\\tvb\\simulator\\lab.py\u001b[0m in \u001b[0;36m<module>\u001b[1;34m\u001b[0m\n\u001b[0;32m     48\u001b[0m         \u001b[1;32mpass\u001b[0m\u001b[1;33m\u001b[0m\u001b[1;33m\u001b[0m\u001b[0m\n\u001b[0;32m     49\u001b[0m \u001b[1;33m\u001b[0m\u001b[0m\n\u001b[1;32m---> 50\u001b[1;33m \u001b[1;32mfrom\u001b[0m \u001b[0mtvb\u001b[0m\u001b[1;33m.\u001b[0m\u001b[0mbasic\u001b[0m\u001b[1;33m.\u001b[0m\u001b[0mprofile\u001b[0m \u001b[1;32mimport\u001b[0m \u001b[0mTvbProfile\u001b[0m\u001b[1;33m\u001b[0m\u001b[1;33m\u001b[0m\u001b[0m\n\u001b[0m\u001b[0;32m     51\u001b[0m \u001b[0mTvbProfile\u001b[0m\u001b[1;33m.\u001b[0m\u001b[0mset_profile\u001b[0m\u001b[1;33m(\u001b[0m\u001b[0mTvbProfile\u001b[0m\u001b[1;33m.\u001b[0m\u001b[0mLIBRARY_PROFILE\u001b[0m\u001b[1;33m)\u001b[0m\u001b[1;33m\u001b[0m\u001b[1;33m\u001b[0m\u001b[0m\n\u001b[0;32m     52\u001b[0m \u001b[1;33m\u001b[0m\u001b[0m\n",
      "\u001b[1;32mD:\\Program Files (x86)\\TVB_Windows_1.5.8\\TVB_Distribution\\tvb_data\\Lib\\site-packages\\tvb\\basic\\profile.py\u001b[0m in \u001b[0;36m<module>\u001b[1;34m\u001b[0m\n\u001b[0;32m     56\u001b[0m \u001b[1;33m\u001b[0m\u001b[0m\n\u001b[0;32m     57\u001b[0m \u001b[1;33m\u001b[0m\u001b[0m\n\u001b[1;32m---> 58\u001b[1;33m \u001b[1;32mclass\u001b[0m \u001b[0mTvbProfile\u001b[0m\u001b[1;33m(\u001b[0m\u001b[1;33m)\u001b[0m\u001b[1;33m:\u001b[0m\u001b[1;33m\u001b[0m\u001b[1;33m\u001b[0m\u001b[0m\n\u001b[0m\u001b[0;32m     59\u001b[0m     \"\"\"\n\u001b[0;32m     60\u001b[0m     \u001b[0mENUM\u001b[0m\u001b[1;33m-\u001b[0m\u001b[0mlike\u001b[0m \u001b[1;32mclass\u001b[0m \u001b[1;32mwith\u001b[0m \u001b[0mcurrent\u001b[0m \u001b[0mTVB\u001b[0m \u001b[0mprofile\u001b[0m \u001b[1;32mand\u001b[0m \u001b[0maccepted\u001b[0m \u001b[0mvalues\u001b[0m\u001b[1;33m.\u001b[0m\u001b[1;33m\u001b[0m\u001b[1;33m\u001b[0m\u001b[0m\n",
      "\u001b[1;32mD:\\Program Files (x86)\\TVB_Windows_1.5.8\\TVB_Distribution\\tvb_data\\Lib\\site-packages\\tvb\\basic\\profile.py\u001b[0m in \u001b[0;36mTvbProfile\u001b[1;34m()\u001b[0m\n\u001b[0;32m     77\u001b[0m     \u001b[0mCURRENT_PROFILE_NAME\u001b[0m \u001b[1;33m=\u001b[0m \u001b[1;32mNone\u001b[0m\u001b[1;33m\u001b[0m\u001b[1;33m\u001b[0m\u001b[0m\n\u001b[0;32m     78\u001b[0m \u001b[1;33m\u001b[0m\u001b[0m\n\u001b[1;32m---> 79\u001b[1;33m     \u001b[0mcurrent\u001b[0m \u001b[1;33m=\u001b[0m \u001b[0mBaseSettingsProfile\u001b[0m\u001b[1;33m(\u001b[0m\u001b[1;32mFalse\u001b[0m\u001b[1;33m)\u001b[0m\u001b[1;33m\u001b[0m\u001b[1;33m\u001b[0m\u001b[0m\n\u001b[0m\u001b[0;32m     80\u001b[0m     \u001b[0menv\u001b[0m \u001b[1;33m=\u001b[0m \u001b[0mEnvironment\u001b[0m\u001b[1;33m(\u001b[0m\u001b[1;33m)\u001b[0m\u001b[1;33m\u001b[0m\u001b[1;33m\u001b[0m\u001b[0m\n\u001b[0;32m     81\u001b[0m \u001b[1;33m\u001b[0m\u001b[0m\n",
      "\u001b[1;32mD:\\Program Files (x86)\\TVB_Windows_1.5.8\\TVB_Distribution\\tvb_data\\Lib\\site-packages\\tvb\\basic\\config\\profile_settings.py\u001b[0m in \u001b[0;36m__init__\u001b[1;34m(self, web_enabled)\u001b[0m\n\u001b[0;32m     66\u001b[0m \u001b[1;33m\u001b[0m\u001b[0m\n\u001b[0;32m     67\u001b[0m         \u001b[1;31m## Actual storage of all TVB related files\u001b[0m\u001b[1;33m\u001b[0m\u001b[1;33m\u001b[0m\u001b[1;33m\u001b[0m\u001b[0m\n\u001b[1;32m---> 68\u001b[1;33m         \u001b[0mself\u001b[0m\u001b[1;33m.\u001b[0m\u001b[0mTVB_STORAGE\u001b[0m \u001b[1;33m=\u001b[0m \u001b[0mself\u001b[0m\u001b[1;33m.\u001b[0m\u001b[0mmanager\u001b[0m\u001b[1;33m.\u001b[0m\u001b[0mget_attribute\u001b[0m\u001b[1;33m(\u001b[0m\u001b[0mstored\u001b[0m\u001b[1;33m.\u001b[0m\u001b[0mKEY_STORAGE\u001b[0m\u001b[1;33m,\u001b[0m \u001b[0mself\u001b[0m\u001b[1;33m.\u001b[0m\u001b[0mFIRST_RUN_STORAGE\u001b[0m\u001b[1;33m,\u001b[0m \u001b[0municode\u001b[0m\u001b[1;33m)\u001b[0m\u001b[1;33m\u001b[0m\u001b[1;33m\u001b[0m\u001b[0m\n\u001b[0m\u001b[0;32m     69\u001b[0m         \u001b[0mself\u001b[0m\u001b[1;33m.\u001b[0m\u001b[0mTVB_LOG_FOLDER\u001b[0m \u001b[1;33m=\u001b[0m \u001b[0mos\u001b[0m\u001b[1;33m.\u001b[0m\u001b[0mpath\u001b[0m\u001b[1;33m.\u001b[0m\u001b[0mjoin\u001b[0m\u001b[1;33m(\u001b[0m\u001b[0mself\u001b[0m\u001b[1;33m.\u001b[0m\u001b[0mTVB_STORAGE\u001b[0m\u001b[1;33m,\u001b[0m \u001b[1;34m\"logs\"\u001b[0m\u001b[1;33m)\u001b[0m\u001b[1;33m\u001b[0m\u001b[1;33m\u001b[0m\u001b[0m\n\u001b[0;32m     70\u001b[0m         \u001b[0mself\u001b[0m\u001b[1;33m.\u001b[0m\u001b[0mTVB_TEMP_FOLDER\u001b[0m \u001b[1;33m=\u001b[0m \u001b[0mos\u001b[0m\u001b[1;33m.\u001b[0m\u001b[0mpath\u001b[0m\u001b[1;33m.\u001b[0m\u001b[0mjoin\u001b[0m\u001b[1;33m(\u001b[0m\u001b[0mself\u001b[0m\u001b[1;33m.\u001b[0m\u001b[0mTVB_STORAGE\u001b[0m\u001b[1;33m,\u001b[0m \u001b[1;34m\"TEMP\"\u001b[0m\u001b[1;33m)\u001b[0m\u001b[1;33m\u001b[0m\u001b[1;33m\u001b[0m\u001b[0m\n",
      "\u001b[1;31mNameError\u001b[0m: name 'unicode' is not defined"
     ]
    }
   ],
   "source": [
    "import sys\n",
    "\n",
    "# TVB is Python 2. \n",
    "\n",
    "sys.path.append(\"D:\\Program Files (x86)\\TVB_Windows_1.5.8\\TVB_Distribution\\\\tvb_data\\Lib\")\n",
    "sys.path.append(\"D:\\Program Files (x86)\\TVB_Windows_1.5.8\\TVB_Distribution\\\\tvb_data\\Lib\\site-packages\")\n",
    "sys.path.append(\"D:\\Program Files (x86)\\TVB_Windows_1.5.8\\TVB_Distribution\\\\tvb_data\")\n",
    "sys.path.append(\"D:\\Program Files (x86)\\TVB_Windows_1.5.8\\TVB_Distribution\\\\tvb_data\\Library\\\\bin\")\n",
    "sys.path.append(\"D:\\Program Files (x86)\\TVB_Windows_1.5.8\\TVB_Distribution\\\\tvb_data\\Library\\mingw-w64\\\\bin\")\n",
    "sys.path.append(\"D:\\Program Files (x86)\\TVB_Windows_1.5.8\\TVB_Distribution\\\\tvb_data\\Scripts\")\n",
    "\n",
    "#set PATH=%cd%;%cd%\\Library\\mingw-w64\\bin;%cd%\\Library\\bin;%cd%\\Scripts;%path%; \n",
    "# set PYTHONPATH=%cd%\\Lib;%cd%\\Lib\\site-packages \n",
    "\n",
    "from tvb.simulator.lab import *\n",
    "LOG = get_logger('demo')\n",
    "from tvb.simulator.plot.tools import *\n",
    "import numpy as np\n",
    "import pylab\n",
    "import matplotlib.pyplot as plt\n",
    "%matplotlib inline\n",
    "matplotlib.rcParams['figure.figsize'] = (20.0, 10.0)"
   ]
  },
  {
   "cell_type": "code",
   "execution_count": 2,
   "metadata": {},
   "outputs": [
    {
     "data": {
      "text/plain": "['C:\\\\Users\\\\POKHIM~1\\\\AppData\\\\Local\\\\Temp\\\\14b259e3-d7d7-4d60-9550-da37962c397a',\n 'C:\\\\Users\\\\Pok Him\\\\Anaconda3\\\\python37.zip',\n 'C:\\\\Users\\\\Pok Him\\\\Anaconda3\\\\DLLs',\n 'C:\\\\Users\\\\Pok Him\\\\Anaconda3\\\\lib',\n 'C:\\\\Users\\\\Pok Him\\\\Anaconda3',\n '',\n 'C:\\\\Users\\\\Pok Him\\\\Anaconda3\\\\lib\\\\site-packages',\n 'C:\\\\Users\\\\Pok Him\\\\Anaconda3\\\\lib\\\\site-packages\\\\win32',\n 'C:\\\\Users\\\\Pok Him\\\\Anaconda3\\\\lib\\\\site-packages\\\\win32\\\\lib',\n 'C:\\\\Users\\\\Pok Him\\\\Anaconda3\\\\lib\\\\site-packages\\\\Pythonwin',\n 'C:\\\\Users\\\\Pok Him\\\\Anaconda3\\\\lib\\\\site-packages\\\\IPython\\\\extensions',\n 'C:\\\\Users\\\\Pok Him\\\\.ipython',\n 'D:\\\\Program Files (x86)\\\\TVB_Windows_1.5.8\\\\TVB_Distribution\\\\tvb_data\\\\Lib',\n 'D:\\\\Program Files (x86)\\\\TVB_Windows_1.5.8\\\\TVB_Distribution\\\\tvb_data\\\\Lib\\\\site-packages']"
     },
     "execution_count": 2,
     "metadata": {},
     "output_type": "execute_result"
    }
   ],
   "source": [
    "import sys\n",
    "sys.path"
   ]
  },
  {
   "cell_type": "code",
   "execution_count": null,
   "metadata": {},
   "outputs": [],
   "source": []
  }
 ]
}