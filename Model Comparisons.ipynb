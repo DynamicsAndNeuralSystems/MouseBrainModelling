{
 "nbformat": 4,
 "nbformat_minor": 2,
 "metadata": {
  "language_info": {
   "name": "python",
   "codemirror_mode": {
    "name": "ipython",
    "version": 3
   }
  },
  "orig_nbformat": 2,
  "file_extension": ".py",
  "mimetype": "text/x-python",
  "name": "python",
  "npconvert_exporter": "python",
  "pygments_lexer": "ipython3",
  "version": 3
 },
 "cells": [
  {
   "cell_type": "code",
   "execution_count": null,
   "metadata": {},
   "outputs": [],
   "source": [
    "# Model Comparisons\n",
    "\n",
    "# Import SCorrs from folder\n",
    "\n",
    "# Graph them Accordingly\n",
    "\n",
    "# Compare FCMs to actual data."
   ]
  }
 ]
}