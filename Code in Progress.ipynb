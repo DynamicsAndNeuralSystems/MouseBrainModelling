{
 "metadata": {
  "language_info": {
   "codemirror_mode": {
    "name": "ipython",
    "version": 3
   },
   "file_extension": ".py",
   "mimetype": "text/x-python",
   "name": "python",
   "nbconvert_exporter": "python",
   "pygments_lexer": "ipython3",
   "version": 3
  },
  "orig_nbformat": 2,
  "kernelspec": {
   "name": "python_defaultSpec_1596366552802",
   "display_name": "Python 3.7.4 64-bit ('tvb': venv)"
  }
 },
 "nbformat": 4,
 "nbformat_minor": 2,
 "cells": [
  {
   "cell_type": "code",
   "execution_count": 2,
   "metadata": {},
   "outputs": [],
   "source": [
    "import numpy as np\n",
    "import pandas as pd\n",
    "import pylab\n",
    "import matplotlib.pyplot as plt\n",
    "from scipy import stats\n",
    "import inspect\n",
    "import os\n",
    "import csv \n",
    "import time\n",
    "import sys\n",
    "import glob\n",
    "import pandas as pd\n",
    "\n",
    "from tvb.simulator.lab import *\n",
    "from tvb.simulator.plot.tools import *\n",
    "\n",
    "# Input Simulation Pipeline\n",
    "from SimulationPipeline import *"
   ]
  },
  {
   "cell_type": "code",
   "execution_count": 11,
   "metadata": {
    "tags": []
   },
   "outputs": [
    {
     "output_type": "stream",
     "name": "stdout",
     "text": "BINARY\nBOLD\nFCFC\nG\nMODEL\n  P [min\n  P dtype .................. float64\n  P shape .................. (1\n  Q [min\n  Q dtype .................. float64\n  Q shape .................. (1\n  Type ..................... WilsonCowan\n  a_e [min\n  a_e dtype ................ float64\n  a_e shape ................ (1\n  a_i [min\n  a_i dtype ................ float64\n  a_i shape ................ (1\n  alpha_e [min\n  alpha_e dtype ............ float64\n  alpha_e shape ............ (1\n  alpha_i [min\n  alpha_i dtype ............ float64\n  alpha_i shape ............ (1\n  b_e [min\n  b_e dtype ................ float64\n  b_e shape ................ (1\n  b_i [min\n  b_i dtype ................ float64\n  b_i shape ................ (1\n  c_e [min\n  c_e dtype ................ float64\n  c_e shape ................ (1\n  c_ee [min\n  c_ee dtype ............... float64\n  c_ee shape ............... (1\n  c_ei [min\n  c_ei dtype ............... float64\n  c_ei shape ............... (1\n  c_i [min\n  c_i dtype ................ float64\n  c_i shape ................ (1\n  c_ie [min\n  c_ie dtype ............... float64\n  c_ie shape ............... (1\n  c_ii [min\n  c_ii dtype ............... float64\n  c_ii shape ............... (1\n  gid ...................... UUID('039a5d9c-1bec-44fc-b1cb-a04cf2573f01')\n  k_e [min\n  k_e dtype ................ float64\n  k_e shape ................ (1\n  k_i [min\n  k_i dtype ................ float64\n  k_i shape ................ (1\n  r_e [min\n  r_e dtype ................ float64\n  r_e shape ................ (1\n  r_i [min\n  r_i dtype ................ float64\n  r_i shape ................ (1\n  state_variable_range ..... {'E': array([0.\n  tau_e [min\n  tau_e dtype .............. float64\n  tau_e shape .............. (1\n  tau_i [min\n  tau_i dtype .............. float64\n  tau_i shape .............. (1\n  theta_e [min\n  theta_e dtype ............ float64\n  theta_e shape ............ (1\n  theta_i [min\n  theta_i dtype ............ float64\n  theta_i shape ............ (1\n  title .................... WilsonCowan gid: 039a5d9c-1bec-44fc-b1cb-a04cf2573f01\n  variables_of_interest .... ('E'\n)\"\nMODEL_c_ee\nMODEL_c_ei\nMODEL_c_ie\nMODEL_c_ii\nREMOVE\nRandState\nSimul_length\nSnip\ndt\nname\nnoise\ntag\n"
    }
   ],
   "source": [
    "reader = csv.reader(open('do-not-track\\\\LCycle_G[0.1]_MouseCortex_Params_20200802-201751_.csv'), delimiter=',', quotechar='|')\n",
    "\n",
    "ParamsDict = {}\n",
    "for row in reader:\n",
    "    #print(', '.join(row))\n",
    "    print(row[0])"
   ]
  },
  {
   "cell_type": "code",
   "execution_count": 8,
   "metadata": {
    "tags": []
   },
   "outputs": [
    {
     "output_type": "stream",
     "name": "stdout",
     "text": "BINARY, True\nBINARY, True\nBINARY, True\nBINARY, True\nBINARY, True\nBINARY, True\nBINARY, True\nBINARY, True\nBINARY, True\nBINARY, True\nBINARY, True\nBINARY, True\nBINARY, True\nBINARY, True\nBINARY, True\nBINARY, True\n"
    }
   ],
   "source": [
    "reader = csv.DictReader(open('do-not-track\\\\LCycle_G[0.1]_MouseCortex_Params_20200802-201751_.csv'))\n",
    "\n",
    "result = {}\n",
    "for row in reader:\n",
    "    print(', '.join(row))"
   ]
  },
  {
   "cell_type": "code",
   "execution_count": 5,
   "metadata": {},
   "outputs": [
    {
     "output_type": "execute_result",
     "data": {
      "text/plain": "OrderedDict([('BINARY', 'BOLD'), ('True', 'False')])"
     },
     "metadata": {},
     "execution_count": 5
    }
   ],
   "source": [
    "dictobj"
   ]
  },
  {
   "cell_type": "code",
   "execution_count": null,
   "metadata": {},
   "outputs": [],
   "source": []
  }
 ]
}