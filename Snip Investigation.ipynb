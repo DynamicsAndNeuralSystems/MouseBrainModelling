{
 "metadata": {
  "language_info": {
   "codemirror_mode": {
    "name": "ipython",
    "version": 3
   },
   "file_extension": ".py",
   "mimetype": "text/x-python",
   "name": "python",
   "nbconvert_exporter": "python",
   "pygments_lexer": "ipython3",
   "version": "3.7.4-final"
  },
  "orig_nbformat": 2,
  "kernelspec": {
   "name": "python_defaultSpec_1599316647819",
   "display_name": "Python 3.7.4 64-bit ('tvb': venv)"
  }
 },
 "nbformat": 4,
 "nbformat_minor": 2,
 "cells": [
  {
   "cell_type": "code",
   "execution_count": 6,
   "metadata": {},
   "outputs": [],
   "source": [
    "# Snip Investigations\n",
    "\n",
    "import numpy as np\n",
    "import pandas as pd\n",
    "import pylab\n",
    "import matplotlib.pyplot as plt\n",
    "from scipy import stats\n",
    "import inspect\n",
    "import os\n",
    "import csv \n",
    "import time\n",
    "import sys\n",
    "import glob\n",
    "import pandas as pd\n",
    "\n",
    "from tvb.simulator.lab import *\n",
    "from tvb.simulator.plot.tools import *\n",
    "\n",
    "# Input Simulation Pipeline\n",
    "from SimulationPipeline import *\n",
    "from useful_fns import *\n",
    "\n",
    "matplotlib.rcParams['figure.figsize'] = (20.0, 10.0)"
   ]
  },
  {
   "cell_type": "code",
   "execution_count": 7,
   "metadata": {
    "tags": []
   },
   "outputs": [
    {
     "output_type": "stream",
     "name": "stdout",
     "text": "do-not-track\\Old\\5_8_20\\LCycle_G[0.75]_MouseCortex_Tseries_20200805-031253_.csv\n"
    }
   ],
   "source": [
    "TseriesFile = glob.glob(\"do-not-track\\\\Old\\\\5_8_20\\\\LCycle_G[0.75*Tseries*_.csv\")[1]\n",
    "ScorrFile = glob.glob(\"do-not-track\\\\Old\\\\5_8_20\\\\LCycle_G[0.75*SCorr*_.csv\")[1]\n",
    "FCMFile = glob.glob(\"do-not-track\\\\Old\\\\5_8_20\\\\LCycle_G[0.75*FCM*_.csv\")[1]\n",
    "print(TseriesFile)"
   ]
  },
  {
   "cell_type": "code",
   "execution_count": 8,
   "metadata": {
    "tags": []
   },
   "outputs": [
    {
     "output_type": "stream",
     "name": "stdout",
     "text": "WARNING  File 'average_orientations' not found in ZIP.\nWARNING  File 'cortical' not found in ZIP.\nWARNING  File 'hemispheres' not found in ZIP.\nWARNING  File 'areas' not found in ZIP.\n"
    }
   ],
   "source": [
    "# These are Default Values for ParamsDict.  \n",
    "\n",
    "# Empty dict\n",
    "ParamsDict = { }\n",
    "\n",
    "# Name of import file/zip - Which contains connectivity data.\n",
    "ParamsDict[\"name\"] = \"MouseCortex\"\n",
    "\n",
    "# Calculate FC-FC for Mouse?\n",
    "ParamsDict[\"FCFC\"] = True\n",
    "\n",
    "# Monitors or not?  (Aka BOLD or not?)\n",
    "ParamsDict[\"BOLD\"] = False\n",
    "\n",
    "# Change to Binary Connectome? (If True, will change the connectome into binary)\n",
    "ParamsDict[\"BINARY\"] = True\n",
    "\n",
    "# Snip is the the number of elements you wish to snip at the start to remove the initial condition effects.\n",
    "ParamsDict[\"Snip\"] = 10\n",
    "# Note, if BOLD = False, Snip gets multiplied by 100, later in the SimulationPipeline code.  Not the actual dictionary element though.  \n",
    "\n",
    "# Set the Random State/Seed for the Stochastic Integrator:\n",
    "ParamsDict[\"RandState\"] = 118\n",
    "\n",
    "# Remove ith indexed region (7 corresponds to Frontal Pole Cerebral Cortex) - Give it a list if removing multiple regions.  Empty list removes nothing. \n",
    "ParamsDict[\"REMOVE\"] = [7]\n",
    "\n",
    "# Set Simulation Length:\n",
    "ParamsDict[\"Simul_length\"] = 1.2e5\n",
    "\n",
    "# Set Linear Coupling Constant:\n",
    "ParamsDict[\"G\"] = np.array([0.47]) \n",
    "\n",
    "# Set integrator time step dt.\n",
    "ParamsDict[\"dt\"] = 0.1\n",
    "\n",
    "# Set Additive Noise strength\n",
    "ParamsDict[\"noise\"] = np.array([0.000013])\n",
    "\n",
    "# Set Wilson Cowan Model Parameters\n",
    "ParamsDict[\"MODEL_c_ee\"] = np.array([16.0])\n",
    "ParamsDict[\"MODEL_c_ei\"] = np.array([12.0])\n",
    "ParamsDict[\"MODEL_c_ie\"] = np.array([10.0])\n",
    "ParamsDict[\"MODEL_c_ii\"] = np.array([3.0])\n",
    "\n",
    "# Model is now defined within SimulationPipeline.py\n",
    "# However if you adjusting parameters other than these Coupling Parameters, then you need to redefine the model in this file per run.\n",
    "\n",
    "ParamsDict[\"MODEL\"] = models.WilsonCowan(c_ee=ParamsDict[\"MODEL_c_ee\"],c_ei=ParamsDict[\"MODEL_c_ei\"],c_ie=ParamsDict[\"MODEL_c_ie\"] ,c_ii=ParamsDict[\"MODEL_c_ii\"],\n",
    "                                        a_e=numpy.array([1.0]),a_i=numpy.array([1.0]),b_e=numpy.array([4]),b_i=numpy.array([4]),tau_e=numpy.array([10.0]),\n",
    "                                        tau_i=numpy.array([10.0])) \n",
    "\n",
    "# Params Dict tag (extra note tags for the name - Example to denote what's being changed/looped.)\n",
    "ParamsDict[\"tag\"] = \"\"\n",
    "\n",
    "################################################################################################################################\n",
    "\n",
    "# i is PBS_ARRAY_INDEX - Allows for creation of multiple jobs \n",
    "# i = int(sys.argv[1])\n",
    "\n",
    "# Limit Cycle Params\n",
    "ParamsDict[\"MODEL_c_ee\"] = np.array([11.0])\n",
    "ParamsDict[\"MODEL_c_ei\"] = np.array([10.0])\n",
    "ParamsDict[\"MODEL_c_ie\"] = np.array([10.0])\n",
    "ParamsDict[\"MODEL_c_ii\"] = np.array([1.0])\n",
    "#ParamsDict[\"G\"] = np.array([i*0.05]) \n",
    "\n",
    "# Define the model if it is not yet defined.\n",
    "if \"MODEL\" not in ParamsDict:\n",
    "    ParamsDict[\"MODEL\"] = models.WilsonCowan(c_ee=ParamsDict[\"MODEL_c_ee\"],c_ei=ParamsDict[\"MODEL_c_ei\"],c_ie=ParamsDict[\"MODEL_c_ie\"] ,c_ii=ParamsDict[\"MODEL_c_ii\"],\n",
    "                                            a_e=numpy.array([1.0]),a_i=numpy.array([1.0]),b_e=numpy.array([2.8]),b_i=numpy.array([2.8]),tau_e=numpy.array([10.0]),\n",
    "                                            tau_i=numpy.array([65.0]),) \n",
    "\n",
    "# Load the connectivity data from a zip file. \n",
    "con = connectivity.Connectivity.from_file(os.getcwd() +\"/Connectomes/\" + ParamsDict[\"name\"] + \".zip\")\n",
    "\n",
    "# Now need to prepare the connectivity data accordingly.  Unfortuantely doesn't load eveyrthing in properly. May need to adjust con.undirected in future.\n",
    "\n",
    "# Remove the ith row and column in centres, tract_lengths and weights. i.e. the specified region(s)\n",
    "con.centres = np.delete(con.centres,ParamsDict[\"REMOVE\"])\n",
    "con.weights = np.delete(con.weights,obj=ParamsDict[\"REMOVE\"],axis=0)\n",
    "con.weights = np.delete(con.weights,obj=ParamsDict[\"REMOVE\"],axis=1)\n",
    "con.tract_lengths = np.delete(con.tract_lengths,obj=ParamsDict[\"REMOVE\"],axis=0)\n",
    "con.tract_lengths = np.delete(con.tract_lengths,obj=ParamsDict[\"REMOVE\"],axis=1)\n",
    "\n",
    "# Number of regions\n",
    "con.number_of_regions = con.weights.shape[0]\n",
    "\n",
    "# Change to Connectome to Binary if desired:\n",
    "if ParamsDict[\"BINARY\"]==True:\n",
    "    con.weights = con.weights!=0"
   ]
  },
  {
   "cell_type": "code",
   "execution_count": 19,
   "metadata": {
    "tags": []
   },
   "outputs": [],
   "source": [
    "\n",
    "# Functional Conenctivity MAtrix = Pearson Correlation.\n",
    "\n",
    "TSeriesMatrix = np.genfromtxt(TseriesFile,delimiter=\"\\t\")[1:]"
   ]
  },
  {
   "cell_type": "code",
   "execution_count": 10,
   "metadata": {
    "tags": []
   },
   "outputs": [
    {
     "output_type": "stream",
     "name": "stdout",
     "text": "1\nSCFC =  SpearmanrResult(correlation=0.39001655130012575, pvalue=1.2354801358988211e-49)\nFCFC =  SpearmanrResult(correlation=0.6129895629303821, pvalue=5.7513349554580164e-70)\n10\nSCFC =  SpearmanrResult(correlation=0.3900971456589239, pvalue=1.175791982143924e-49)\nFCFC =  SpearmanrResult(correlation=0.613030062899865, pvalue=5.601068427039144e-70)\n100\nSCFC =  SpearmanrResult(correlation=0.3900678437055767, pvalue=1.1971537493180992e-49)\nFCFC =  SpearmanrResult(correlation=0.6132501520018289, pvalue=4.850195735306111e-70)\n1000\nSCFC = SpearmanrResult(correlation=0.39038286360334234, pvalue=9.863772978751427e-50)\nFCFC =  SpearmanrResult(correlation=0.6144452057653352, pvalue=2.215477685245727e-70)\n10000\nSCFC =  SpearmanrResult(correlation=0.3864635172803344, pvalue=1.0813446646225768e-48)\nFCFC =  SpearmanrResult(correlation=0.6161577817065863, pvalue=7.165704114663534e-71)\n100000\nSCFC =  SpearmanrResult(correlation=0.35912096383650566, pvalue=8.039788142483966e-42)\nFCFC =  SpearmanrResult(correlation=0.5921138800646416, pvalue=2.9608885744609305e-64)\n"
    }
   ],
   "source": [
    "\n",
    "Snip = 1\n",
    "\n",
    "while Snip < 1e6:\n",
    "    print(Snip)\n",
    "\n",
    "    FCM = np.corrcoef(TSeriesMatrix[:,:len(TSeriesMatrix[0])-Snip])\n",
    "\n",
    "    # Set diagonals to NaN\n",
    "    FCM1 = FCM\n",
    "    np.fill_diagonal(FCM1,np.nan)\n",
    "\n",
    "    # Comparing SC vs FC with Spearman Corr  (Known as SCFC)\n",
    "    # Check if SCM is symmetric: \n",
    "    SCM = con.weights\n",
    "    Sym_check = numpy.allclose(SCM, SCM.T,equal_nan=True)\n",
    "\n",
    "    if Sym_check == True:\n",
    "        #It is a symmetric SCM, so only use upper triangles\n",
    "        # Grab Upper triangles\n",
    "        FCM_Upper = FCM[np.triu_indices(FCM.shape[0], k = 1)]\n",
    "        SCM_Upper = con.weights[np.triu_indices(con.weights.shape[0], k = 1)]\n",
    "\n",
    "    elif Sym_check == False:\n",
    "        # If SCM is not symmetric, need to calcualte spearman corr for entire matrix.\n",
    "        # Set Diagonal to Nans\n",
    "        np.fill_diagonal(SCM,np.nan)\n",
    "        # Remove all Nans for SCM and FCM\n",
    "        SCM_Upper = SCM[~numpy.isnan(SCM)]\n",
    "        FCM_Upper = FCM1[~numpy.isnan(FCM1)]\n",
    "\n",
    "    # Spearman Correlation\n",
    "    Scorr = stats.spearmanr(a=FCM_Upper,b=SCM_Upper)\n",
    "    print(\"SCFC = \",Scorr)\n",
    "\n",
    "    # Calculate FC-FC score for mouse if requested.\n",
    "    if ParamsDict[\"FCFC\"] == True:\n",
    "        # FCM_exp\n",
    "        FCM_exp = np.genfromtxt('FCM_MouseExperimental.csv',delimiter = \"\\t\")\n",
    "        # Set diagonals to NaN\n",
    "        np.fill_diagonal(FCM_exp,np.nan)\n",
    "\n",
    "        # Remove the ith row and column in FCM (i.e. the specified region)\n",
    "        FCM_exp = np.delete(FCM_exp,obj=ParamsDict[\"REMOVE\"],axis=0)\n",
    "        FCM_exp = np.delete(FCM_exp,obj=ParamsDict[\"REMOVE\"],axis=1)\n",
    "\n",
    "        # Comparing FC_experimental Vs FC_Simulation with Spearman Correlation\n",
    "\n",
    "        FCM_Exp_U = FCM_exp[np.triu_indices(FCM_exp.shape[0], k = 1)]  \n",
    "        FCM_Upper = FCM[np.triu_indices(FCM.shape[0], k = 1)]\n",
    "\n",
    "        # FC-FC Spearman Correlation\n",
    "        FCFC = stats.spearmanr(a=FCM_Exp_U,b=FCM_Upper)\n",
    "        print(\"FCFC = \",FCFC)\n",
    "        # Concancatanate to end of Scorr output file. \n",
    "        Scorr = Scorr + FCFC\n",
    "\n",
    "    Snip = Snip * 10"
   ]
  },
  {
   "cell_type": "markdown",
   "metadata": {},
   "source": [
    "We thus see, that as we increase Snip size, FCFC score doesn't really change much. \n",
    "Until we snip 1e5 of data (which is like 5/6 of the data) and the usual, since we are taking the correlation of a shorter data length, our error bars indicate that the result we get is worse. \n",
    "This salso uggests, that the snip we have so far already allows the system to reach equilibrium if it ever does. "
   ]
  }
 ]
}